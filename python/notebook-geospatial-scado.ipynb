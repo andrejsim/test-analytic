{
 "cells": [
  {
   "cell_type": "code",
   "execution_count": 10,
   "metadata": {},
   "outputs": [
    {
     "name": "stdout",
     "output_type": "stream",
     "text": [
      "../../data-scado/20190426T060000Z/20190426T060000Z_TT.grb\r\n",
      "../../data-scado/20190426T060000Z/20190426T063000Z_TT.grb\r\n",
      "../../data-scado/20190426T060000Z/20190426T070000Z_TT.grb\r\n",
      "../../data-scado/20190426T060000Z/20190426T073000Z_TT.grb\r\n",
      "../../data-scado/20190426T060000Z/20190426T080000Z_TT.grb\r\n",
      "../../data-scado/20190426T060000Z/20190426T083000Z_TT.grb\r\n",
      "../../data-scado/20190426T060000Z/20190426T090000Z_TT.grb\r\n",
      "../../data-scado/20190426T060000Z/20190426T093000Z_TT.grb\r\n",
      "../../data-scado/20190426T060000Z/20190426T100000Z_TT.grb\r\n",
      "../../data-scado/20190426T060000Z/20190426T103000Z_TT.grb\r\n",
      "../../data-scado/20190426T060000Z/20190426T110000Z_TT.grb\r\n",
      "../../data-scado/20190426T060000Z/20190426T113000Z_TT.grb\r\n",
      "../../data-scado/20190426T060000Z/20190426T120000Z_TT.grb\r\n",
      "../../data-scado/20190426T060000Z/20190426T130000Z_TT.grb\r\n",
      "../../data-scado/20190426T060000Z/20190426T140000Z_TT.grb\r\n",
      "../../data-scado/20190426T060000Z/20190426T150000Z_TT.grb\r\n"
     ]
    }
   ],
   "source": [
    "ls ../../data-scado/20190426T060000Z/*_TT.grb\n"
   ]
  },
  {
   "cell_type": "code",
   "execution_count": 12,
   "metadata": {},
   "outputs": [
    {
     "data": {
      "text/plain": [
       "{'coords': {'time': {'dims': (),\n",
       "   'attrs': {'long_name': 'initial time of forecast',\n",
       "    'standard_name': 'forecast_reference_time'},\n",
       "   'dtype': 'datetime64[ns]',\n",
       "   'shape': ()},\n",
       "  'surface': {'dims': (),\n",
       "   'attrs': {'long_name': 'original GRIB coordinate for key: level(surface)',\n",
       "    'units': '1'},\n",
       "   'dtype': 'int64',\n",
       "   'shape': ()},\n",
       "  'latitude': {'dims': ('latitude',),\n",
       "   'attrs': {'units': 'degrees_north',\n",
       "    'standard_name': 'latitude',\n",
       "    'long_name': 'latitude'},\n",
       "   'dtype': 'float64',\n",
       "   'shape': (1876,)},\n",
       "  'longitude': {'dims': ('longitude',),\n",
       "   'attrs': {'units': 'degrees_east',\n",
       "    'standard_name': 'longitude',\n",
       "    'long_name': 'longitude'},\n",
       "   'dtype': 'float64',\n",
       "   'shape': (2276,)},\n",
       "  'step': {'dims': ('valid_time',),\n",
       "   'attrs': {'long_name': 'time since forecast_reference_time',\n",
       "    'standard_name': 'forecast_period'},\n",
       "   'dtype': 'timedelta64[ns]',\n",
       "   'shape': (16,)},\n",
       "  'valid_time': {'dims': ('valid_time',),\n",
       "   'attrs': {'standard_name': 'time', 'long_name': 'time'},\n",
       "   'dtype': 'datetime64[ns]',\n",
       "   'shape': (16,)}},\n",
       " 'attrs': {'GRIB_edition': 2,\n",
       "  'GRIB_centre': 'consensus',\n",
       "  'GRIB_centreDescription': 'Consensus',\n",
       "  'GRIB_subCentre': 65535,\n",
       "  'Conventions': 'CF-1.7',\n",
       "  'institution': 'Consensus',\n",
       "  'history': '2019-04-26T15:01:15 GRIB to CDM+CF via cfgrib-0.9.6.1.post1/ecCodes-2.7.3 with {\"source\": \"/Users/andrejm/data-scado/20190426T060000Z/20190426T060000Z_TT.grb\", \"filter_by_keys\": {}, \"encode_cf\": [\"parameter\", \"time\", \"geography\", \"vertical\"]}'},\n",
       " 'dims': {'latitude': 1876, 'longitude': 2276, 'valid_time': 16},\n",
       " 'data_vars': {'t': {'dims': ('valid_time', 'latitude', 'longitude'),\n",
       "   'attrs': {'GRIB_paramId': 130,\n",
       "    'GRIB_shortName': 't',\n",
       "    'GRIB_units': 'K',\n",
       "    'GRIB_name': 'Temperature',\n",
       "    'GRIB_cfName': 'air_temperature',\n",
       "    'GRIB_cfVarName': 't',\n",
       "    'GRIB_dataType': 'fc',\n",
       "    'GRIB_missingValue': 9999,\n",
       "    'GRIB_numberOfPoints': 4269776,\n",
       "    'GRIB_typeOfLevel': 'surface',\n",
       "    'GRIB_NV': 0,\n",
       "    'GRIB_stepUnits': 1,\n",
       "    'GRIB_stepType': 'instant',\n",
       "    'GRIB_gridType': 'regular_ll',\n",
       "    'GRIB_gridDefinitionDescription': 'Latitude/longitude. Also called equidistant cylindrical, or Plate Carree',\n",
       "    'GRIB_Nx': 2276,\n",
       "    'GRIB_iDirectionIncrementInDegrees': 0.02,\n",
       "    'GRIB_iScansNegatively': 0,\n",
       "    'GRIB_longitudeOfFirstGridPointInDegrees': 347.0,\n",
       "    'GRIB_longitudeOfLastGridPointInDegrees': 32.5,\n",
       "    'GRIB_Ny': 1876,\n",
       "    'GRIB_jDirectionIncrementInDegrees': 0.02,\n",
       "    'GRIB_jPointsAreConsecutive': 0,\n",
       "    'GRIB_jScansPositively': 1,\n",
       "    'GRIB_latitudeOfFirstGridPointInDegrees': 34.0,\n",
       "    'GRIB_latitudeOfLastGridPointInDegrees': 71.5,\n",
       "    'long_name': 'Temperature',\n",
       "    'units': 'K',\n",
       "    'standard_name': 'air_temperature'},\n",
       "   'dtype': 'float32',\n",
       "   'shape': (16, 1876, 2276)}}}"
      ]
     },
     "execution_count": 12,
     "metadata": {},
     "output_type": "execute_result"
    }
   ],
   "source": [
    "import xarray\n",
    "ds = xarray.open_mfdataset('../../data-scado/20190426T060000Z/*_TT.grb', concat_dim='valid_time', chunks=10, engine='cfgrib')\n",
    "ds.to_dict(data=False)"
   ]
  },
  {
   "cell_type": "code",
   "execution_count": 7,
   "metadata": {},
   "outputs": [
    {
     "data": {
      "text/plain": [
       "KeysView(Frozen(SortedKeysDict({'latitude': 1876, 'longitude': 2276, 'time': 16})))"
      ]
     },
     "execution_count": 7,
     "metadata": {},
     "output_type": "execute_result"
    }
   ],
   "source": [
    "ds.dims.keys()"
   ]
  },
  {
   "cell_type": "code",
   "execution_count": 11,
   "metadata": {},
   "outputs": [
    {
     "data": {
      "text/plain": [
       "<xarray.DataArray 'step' (time: 16)>\n",
       "array([             0,              0,  3600000000000,  3600000000000,\n",
       "        7200000000000,  7200000000000, 10800000000000, 10800000000000,\n",
       "       14400000000000, 14400000000000, 18000000000000, 18000000000000,\n",
       "       21600000000000, 25200000000000, 28800000000000, 32400000000000],\n",
       "      dtype='timedelta64[ns]')\n",
       "Coordinates:\n",
       "    surface     int64 0\n",
       "  * time        (time) datetime64[ns] 2019-04-26T06:00:00 ... 2019-04-26T06:00:00\n",
       "    step        (time) timedelta64[ns] 00:00:00 00:00:00 ... 08:00:00 09:00:00\n",
       "    valid_time  (time) datetime64[ns] 2019-04-26T06:00:00 ... 2019-04-26T15:00:00\n",
       "Attributes:\n",
       "    long_name:      time since forecast_reference_time\n",
       "    standard_name:  forecast_period"
      ]
     },
     "execution_count": 11,
     "metadata": {},
     "output_type": "execute_result"
    }
   ],
   "source": [
    "ds.step.isel()"
   ]
  },
  {
   "cell_type": "code",
   "execution_count": 9,
   "metadata": {},
   "outputs": [
    {
     "data": {
      "text/plain": [
       "<xarray.DataArray 'valid_time' (time: 16)>\n",
       "array(['2019-04-26T06:00:00.000000000', '2019-04-26T06:00:00.000000000',\n",
       "       '2019-04-26T07:00:00.000000000', '2019-04-26T07:00:00.000000000',\n",
       "       '2019-04-26T08:00:00.000000000', '2019-04-26T08:00:00.000000000',\n",
       "       '2019-04-26T09:00:00.000000000', '2019-04-26T09:00:00.000000000',\n",
       "       '2019-04-26T10:00:00.000000000', '2019-04-26T10:00:00.000000000',\n",
       "       '2019-04-26T11:00:00.000000000', '2019-04-26T11:00:00.000000000',\n",
       "       '2019-04-26T12:00:00.000000000', '2019-04-26T13:00:00.000000000',\n",
       "       '2019-04-26T14:00:00.000000000', '2019-04-26T15:00:00.000000000'],\n",
       "      dtype='datetime64[ns]')\n",
       "Coordinates:\n",
       "    surface     int64 0\n",
       "  * time        (time) datetime64[ns] 2019-04-26T06:00:00 ... 2019-04-26T06:00:00\n",
       "    step        (time) timedelta64[ns] 00:00:00 00:00:00 ... 08:00:00 09:00:00\n",
       "    valid_time  (time) datetime64[ns] 2019-04-26T06:00:00 ... 2019-04-26T15:00:00\n",
       "Attributes:\n",
       "    standard_name:  time\n",
       "    long_name:      time"
      ]
     },
     "execution_count": 9,
     "metadata": {},
     "output_type": "execute_result"
    }
   ],
   "source": [
    "ds.valid_time.isel()"
   ]
  },
  {
   "cell_type": "code",
   "execution_count": null,
   "metadata": {},
   "outputs": [],
   "source": [
    "ds.t.plot()\n",
    "plt.show()"
   ]
  },
  {
   "cell_type": "markdown",
   "metadata": {},
   "source": [
    "Dataset Primary Variable"
   ]
  },
  {
   "cell_type": "markdown",
   "metadata": {},
   "source": [
    "### List dimensions"
   ]
  },
  {
   "cell_type": "code",
   "execution_count": 13,
   "metadata": {},
   "outputs": [
    {
     "name": "stdout",
     "output_type": "stream",
     "text": [
      "<xarray.DataArray 'latitude' (latitude: 1876)>\n",
      "array([34.  , 34.02, 34.04, ..., 71.46, 71.48, 71.5 ])\n",
      "Coordinates:\n",
      "    time      datetime64[ns] 2019-04-26T06:00:00\n",
      "    surface   int64 0\n",
      "  * latitude  (latitude) float64 34.0 34.02 34.04 34.06 ... 71.46 71.48 71.5\n",
      "Attributes:\n",
      "    units:          degrees_north\n",
      "    standard_name:  latitude\n",
      "    long_name:      latitude\n",
      "<xarray.DataArray 'longitude' (longitude: 2276)>\n",
      "array([-13.  , -12.98, -12.96, ...,  32.46,  32.48,  32.5 ])\n",
      "Coordinates:\n",
      "    time       datetime64[ns] 2019-04-26T06:00:00\n",
      "    surface    int64 0\n",
      "  * longitude  (longitude) float64 -13.0 -12.98 -12.96 ... 32.46 32.48 32.5\n",
      "Attributes:\n",
      "    units:          degrees_east\n",
      "    standard_name:  longitude\n",
      "    long_name:      longitude\n",
      "<xarray.DataArray 'valid_time' (valid_time: 16)>\n",
      "array(['2019-04-26T06:00:00.000000000', '2019-04-26T06:00:00.000000000',\n",
      "       '2019-04-26T07:00:00.000000000', '2019-04-26T07:00:00.000000000',\n",
      "       '2019-04-26T08:00:00.000000000', '2019-04-26T08:00:00.000000000',\n",
      "       '2019-04-26T09:00:00.000000000', '2019-04-26T09:00:00.000000000',\n",
      "       '2019-04-26T10:00:00.000000000', '2019-04-26T10:00:00.000000000',\n",
      "       '2019-04-26T11:00:00.000000000', '2019-04-26T11:00:00.000000000',\n",
      "       '2019-04-26T12:00:00.000000000', '2019-04-26T13:00:00.000000000',\n",
      "       '2019-04-26T14:00:00.000000000', '2019-04-26T15:00:00.000000000'],\n",
      "      dtype='datetime64[ns]')\n",
      "Coordinates:\n",
      "    time        datetime64[ns] 2019-04-26T06:00:00\n",
      "    surface     int64 0\n",
      "    step        (valid_time) timedelta64[ns] 00:00:00 00:00:00 ... 09:00:00\n",
      "  * valid_time  (valid_time) datetime64[ns] 2019-04-26T06:00:00 ... 2019-04-26T15:00:00\n",
      "Attributes:\n",
      "    standard_name:  time\n",
      "    long_name:      time\n"
     ]
    }
   ],
   "source": [
    "for dim in ds.dims:\n",
    "    print(ds.coords[str(dim)])"
   ]
  },
  {
   "cell_type": "markdown",
   "metadata": {},
   "source": [
    "### Extract Bounding Box\n",
    "bbox = left,bottom,right,top\n",
    "bbox = min Longitude , min Latitude , max Longitude , max Latitude "
   ]
  },
  {
   "cell_type": "code",
   "execution_count": 16,
   "metadata": {},
   "outputs": [
    {
     "name": "stdout",
     "output_type": "stream",
     "text": [
      "latitude: 34.0 71.5000000000032\n",
      "longitude: -13.0 32.4999999999993\n",
      "valid_time: 2019-04-26T06:00:00.000000000 2019-04-26T15:00:00.000000000\n"
     ]
    }
   ],
   "source": [
    "for dim in ds.dims:\n",
    "    dimension_data = ds.coords[str(dim)].data\n",
    "    print(dim+\": {} {}\".format(dimension_data.min(),dimension_data.max()))\n",
    "    \n",
    "#bbox = left,bottom,right,top\n",
    "#bbox = min Longitude , min Latitude , max Longitude , max Latitude     "
   ]
  },
  {
   "cell_type": "code",
   "execution_count": 17,
   "metadata": {},
   "outputs": [
    {
     "data": {
      "text/plain": [
       "Coordinates:\n",
       "    time        datetime64[ns] 2019-04-26T06:00:00\n",
       "    surface     int64 0\n",
       "  * latitude    (latitude) float64 34.0 34.02 34.04 34.06 ... 71.46 71.48 71.5\n",
       "  * longitude   (longitude) float64 -13.0 -12.98 -12.96 ... 32.46 32.48 32.5\n",
       "    step        (valid_time) timedelta64[ns] 00:00:00 00:00:00 ... 09:00:00\n",
       "  * valid_time  (valid_time) datetime64[ns] 2019-04-26T06:00:00 ... 2019-04-26T15:00:00"
      ]
     },
     "execution_count": 17,
     "metadata": {},
     "output_type": "execute_result"
    }
   ],
   "source": [
    "ds.coords"
   ]
  },
  {
   "cell_type": "code",
   "execution_count": 18,
   "metadata": {},
   "outputs": [],
   "source": [
    "ds.close()"
   ]
  }
 ],
 "metadata": {
  "kernelspec": {
   "display_name": "VENV",
   "language": "python",
   "name": "venv"
  },
  "language_info": {
   "codemirror_mode": {
    "name": "ipython",
    "version": 3
   },
   "file_extension": ".py",
   "mimetype": "text/x-python",
   "name": "python",
   "nbconvert_exporter": "python",
   "pygments_lexer": "ipython3",
   "version": "3.7.2"
  }
 },
 "nbformat": 4,
 "nbformat_minor": 2
}
