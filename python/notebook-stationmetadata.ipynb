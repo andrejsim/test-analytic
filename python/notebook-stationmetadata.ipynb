{
 "cells": [
  {
   "cell_type": "code",
   "execution_count": 2,
   "metadata": {},
   "outputs": [],
   "source": [
    "import xarray\n",
    "import matplotlib.pyplot as plt"
   ]
  },
  {
   "cell_type": "code",
   "execution_count": 28,
   "metadata": {},
   "outputs": [],
   "source": [
    "station_filename = '../data/station-metadata-geojson.json'"
   ]
  },
  {
   "cell_type": "code",
   "execution_count": 33,
   "metadata": {},
   "outputs": [],
   "source": [
    "import geojson\n",
    "\n",
    "with open(station_filename,'r') as fp:\n",
    "    station_geojson_weather_api = geojson.load(fp)"
   ]
  },
  {
   "cell_type": "code",
   "execution_count": 35,
   "metadata": {},
   "outputs": [
    {
     "data": {
      "text/plain": [
       "{\"features\": [{\"geometry\": {\"coordinates\": [8.4125, 55.0112, 26], \"type\": \"Point\"}, \"properties\": {\"accessVisibility\": \"public\", \"countryIsoCode\": \"DE\", \"hasForecastData\": true, \"hasObservationData\": true, \"meteoGroupStationId\": 10020, \"name\": \"List/Sylt\", \"provider\": \"DWD\", \"stationTimeZoneName\": \"Europe/Berlin\", \"type\": \"WMO\", \"wmoCountryId\": 69}, \"type\": \"Feature\"}, {\"geometry\": {\"coordinates\": [11.2406, 54.4936, 5], \"type\": \"Point\"}, \"properties\": {\"accessVisibility\": \"public\", \"countryIsoCode\": \"DE\", \"hasForecastData\": true, \"hasObservationData\": true, \"icaoCode\": \"ETML\", \"meteoGroupStationId\": 10067, \"name\": \"Marienleuchte\", \"provider\": \"DWD/BuWe\", \"stationTimeZoneName\": \"Europe/Berlin\", \"type\": \"WMO\", \"wmoCountryId\": 69}, \"type\": \"Feature\"}], \"type\": \"FeatureCollection\"}"
      ]
     },
     "execution_count": 35,
     "metadata": {},
     "output_type": "execute_result"
    }
   ],
   "source": [
    "station_geojson_weather_api"
   ]
  },
  {
   "cell_type": "code",
   "execution_count": 41,
   "metadata": {},
   "outputs": [],
   "source": [
    "# http://geojson.org/\n",
    "import geopandas as gpd\n",
    "stations = gpd.read_file(station_filename)"
   ]
  },
  {
   "cell_type": "code",
   "execution_count": 42,
   "metadata": {},
   "outputs": [
    {
     "data": {
      "text/html": [
       "<div>\n",
       "<style scoped>\n",
       "    .dataframe tbody tr th:only-of-type {\n",
       "        vertical-align: middle;\n",
       "    }\n",
       "\n",
       "    .dataframe tbody tr th {\n",
       "        vertical-align: top;\n",
       "    }\n",
       "\n",
       "    .dataframe thead th {\n",
       "        text-align: right;\n",
       "    }\n",
       "</style>\n",
       "<table border=\"1\" class=\"dataframe\">\n",
       "  <thead>\n",
       "    <tr style=\"text-align: right;\">\n",
       "      <th></th>\n",
       "      <th>accessVisibility</th>\n",
       "      <th>countryIsoCode</th>\n",
       "      <th>provider</th>\n",
       "      <th>hasForecastData</th>\n",
       "      <th>wmoCountryId</th>\n",
       "      <th>meteoGroupStationId</th>\n",
       "      <th>name</th>\n",
       "      <th>hasObservationData</th>\n",
       "      <th>stationTimeZoneName</th>\n",
       "      <th>type</th>\n",
       "      <th>icaoCode</th>\n",
       "      <th>geometry</th>\n",
       "    </tr>\n",
       "  </thead>\n",
       "  <tbody>\n",
       "    <tr>\n",
       "      <th>0</th>\n",
       "      <td>public</td>\n",
       "      <td>DE</td>\n",
       "      <td>DWD</td>\n",
       "      <td>True</td>\n",
       "      <td>69</td>\n",
       "      <td>10020</td>\n",
       "      <td>List/Sylt</td>\n",
       "      <td>True</td>\n",
       "      <td>Europe/Berlin</td>\n",
       "      <td>WMO</td>\n",
       "      <td>None</td>\n",
       "      <td>POINT Z (8.4125 55.0112 26)</td>\n",
       "    </tr>\n",
       "    <tr>\n",
       "      <th>1</th>\n",
       "      <td>public</td>\n",
       "      <td>DE</td>\n",
       "      <td>DWD/BuWe</td>\n",
       "      <td>True</td>\n",
       "      <td>69</td>\n",
       "      <td>10067</td>\n",
       "      <td>Marienleuchte</td>\n",
       "      <td>True</td>\n",
       "      <td>Europe/Berlin</td>\n",
       "      <td>WMO</td>\n",
       "      <td>ETML</td>\n",
       "      <td>POINT Z (11.2406 54.4936 5)</td>\n",
       "    </tr>\n",
       "  </tbody>\n",
       "</table>\n",
       "</div>"
      ],
      "text/plain": [
       "  accessVisibility countryIsoCode  provider  hasForecastData  wmoCountryId  \\\n",
       "0           public             DE       DWD             True            69   \n",
       "1           public             DE  DWD/BuWe             True            69   \n",
       "\n",
       "   meteoGroupStationId           name  hasObservationData stationTimeZoneName  \\\n",
       "0                10020      List/Sylt                True       Europe/Berlin   \n",
       "1                10067  Marienleuchte                True       Europe/Berlin   \n",
       "\n",
       "  type icaoCode                     geometry  \n",
       "0  WMO     None  POINT Z (8.4125 55.0112 26)  \n",
       "1  WMO     ETML  POINT Z (11.2406 54.4936 5)  "
      ]
     },
     "execution_count": 42,
     "metadata": {},
     "output_type": "execute_result"
    }
   ],
   "source": [
    "stations"
   ]
  },
  {
   "cell_type": "code",
   "execution_count": 37,
   "metadata": {},
   "outputs": [
    {
     "data": {
      "text/plain": [
       "'{\"type\": \"FeatureCollection\", \"features\": [{\"id\": \"0\", \"type\": \"Feature\", \"properties\": {\"accessVisibility\": \"public\", \"countryIsoCode\": \"DE\", \"provider\": \"DWD\", \"hasForecastData\": true, \"wmoCountryId\": 69, \"meteoGroupStationId\": 10020, \"name\": \"List/Sylt\", \"hasObservationData\": true, \"stationTimeZoneName\": \"Europe/Berlin\", \"type\": \"WMO\", \"icaoCode\": null}, \"geometry\": {\"type\": \"Point\", \"coordinates\": [8.4125, 55.0112, 26.0]}}, {\"id\": \"1\", \"type\": \"Feature\", \"properties\": {\"accessVisibility\": \"public\", \"countryIsoCode\": \"DE\", \"provider\": \"DWD/BuWe\", \"hasForecastData\": true, \"wmoCountryId\": 69, \"meteoGroupStationId\": 10067, \"name\": \"Marienleuchte\", \"hasObservationData\": true, \"stationTimeZoneName\": \"Europe/Berlin\", \"type\": \"WMO\", \"icaoCode\": \"ETML\"}, \"geometry\": {\"type\": \"Point\", \"coordinates\": [11.2406, 54.4936, 5.0]}}]}'"
      ]
     },
     "execution_count": 37,
     "metadata": {},
     "output_type": "execute_result"
    }
   ],
   "source": [
    "stations.to_json()"
   ]
  },
  {
   "cell_type": "code",
   "execution_count": null,
   "metadata": {},
   "outputs": [],
   "source": [
    "import geojsonio\n",
    "\n",
    "geojsonio.display(stations.to_json())"
   ]
  },
  {
   "cell_type": "markdown",
   "metadata": {},
   "source": [
    "http://geojson.io/#map=8/54.755/9.827"
   ]
  },
  {
   "cell_type": "markdown",
   "metadata": {},
   "source": [
    "https://www.openstreetmap.org/#map=5/51.500/-0.100"
   ]
  },
  {
   "cell_type": "code",
   "execution_count": null,
   "metadata": {},
   "outputs": [],
   "source": [
    "      "
   ]
  }
 ],
 "metadata": {
  "kernelspec": {
   "display_name": "VENV",
   "language": "python",
   "name": "venv"
  },
  "language_info": {
   "codemirror_mode": {
    "name": "ipython",
    "version": 3
   },
   "file_extension": ".py",
   "mimetype": "text/x-python",
   "name": "python",
   "nbconvert_exporter": "python",
   "pygments_lexer": "ipython3",
   "version": "3.7.2"
  }
 },
 "nbformat": 4,
 "nbformat_minor": 2
}
