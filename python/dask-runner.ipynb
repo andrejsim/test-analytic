{
 "cells": [
  {
   "cell_type": "code",
   "execution_count": 8,
   "metadata": {},
   "outputs": [],
   "source": [
    "from dask.distributed import Client, progress\n",
    "\n",
    "# https://examples.dask.org/array.html"
   ]
  },
  {
   "cell_type": "code",
   "execution_count": 3,
   "metadata": {},
   "outputs": [
    {
     "data": {
      "text/plain": [
       "{'TERM_PROGRAM': 'Apple_Terminal',\n",
       " 'TERM': 'xterm-color',\n",
       " 'SHELL': '/bin/bash',\n",
       " 'TMPDIR': '/var/folders/vw/k264gpnx13381_04sf_3q0nngk88rj/T/',\n",
       " 'Apple_PubSub_Socket_Render': '/private/tmp/com.apple.launchd.au3C3RnzVZ/Render',\n",
       " 'TERM_PROGRAM_VERSION': '421.1',\n",
       " 'TERM_SESSION_ID': 'E2BBD444-5B7F-473F-927A-FDB77F2A87A5',\n",
       " 'USER': 'andrejm',\n",
       " 'SSH_AUTH_SOCK': '/private/tmp/com.apple.launchd.XsYzG6qWAX/Listeners',\n",
       " 'VIRTUAL_ENV': '/Users/andrejm/test-analytic/VENV',\n",
       " 'PATH': '/Users/andrejm/test-analytic/VENV/bin:/Users/andrejm/test-analytic/VENV/bin:/usr/local/bin:/usr/bin:/bin:/usr/sbin:/sbin',\n",
       " 'PWD': '/Users/andrejm/test-analytic',\n",
       " 'LANG': 'en_US.UTF-8',\n",
       " 'XPC_FLAGS': '0x0',\n",
       " 'PS1': '(VENV) \\\\h:\\\\W \\\\u\\\\$ ',\n",
       " 'XPC_SERVICE_NAME': '0',\n",
       " 'HOME': '/Users/andrejm',\n",
       " 'SHLVL': '1',\n",
       " 'LOGNAME': 'andrejm',\n",
       " 'SECURITYSESSIONID': '186a8',\n",
       " '_': '/Users/andrejm/test-analytic/VENV/bin/jupyter',\n",
       " 'OLDPWD': '/Users/andrejm/test-analytic/python',\n",
       " '__CF_USER_TEXT_ENCODING': '0x5F242311:0:2',\n",
       " '__PYVENV_LAUNCHER__': '/Users/andrejm/test-analytic/VENV/bin/python',\n",
       " 'JPY_PARENT_PID': '65076',\n",
       " 'CLICOLOR': '1',\n",
       " 'PAGER': 'cat',\n",
       " 'GIT_PAGER': 'cat',\n",
       " 'MPLBACKEND': 'module://ipykernel.pylab.backend_inline'}"
      ]
     },
     "execution_count": 3,
     "metadata": {},
     "output_type": "execute_result"
    }
   ],
   "source": [
    "%env"
   ]
  },
  {
   "cell_type": "code",
   "execution_count": 4,
   "metadata": {},
   "outputs": [
    {
     "name": "stdout",
     "output_type": "stream",
     "text": [
      "<Client: scheduler='inproc://10.31.99.47/65197/1' processes=1 cores=4>\n"
     ]
    }
   ],
   "source": [
    "client = Client(processes=False,\n",
    "                threads_per_worker=4,\n",
    "                n_workers=1,\n",
    "                memory_limit='2GB')\n",
    "\n",
    "print(client)"
   ]
  },
  {
   "cell_type": "code",
   "execution_count": 9,
   "metadata": {},
   "outputs": [
    {
     "data": {
      "text/html": [
       "<table style=\"border: 2px solid white;\">\n",
       "<tr>\n",
       "<td style=\"vertical-align: top; border: 0px solid white\">\n",
       "<h3>Client</h3>\n",
       "<ul>\n",
       "  <li><b>Scheduler: </b>inproc://10.31.99.47/65197/1\n",
       "</ul>\n",
       "</td>\n",
       "<td style=\"vertical-align: top; border: 0px solid white\">\n",
       "<h3>Cluster</h3>\n",
       "<ul>\n",
       "  <li><b>Workers: </b>1</li>\n",
       "  <li><b>Cores: </b>4</li>\n",
       "  <li><b>Memory: </b>2.00 GB</li>\n",
       "</ul>\n",
       "</td>\n",
       "</tr>\n",
       "</table>"
      ],
      "text/plain": [
       "<Client: scheduler='inproc://10.31.99.47/65197/1' processes=1 cores=4>"
      ]
     },
     "execution_count": 9,
     "metadata": {},
     "output_type": "execute_result"
    }
   ],
   "source": [
    "client"
   ]
  },
  {
   "cell_type": "code",
   "execution_count": 10,
   "metadata": {},
   "outputs": [
    {
     "data": {
      "text/plain": [
       "dask.array<random_sample, shape=(10000, 10000), dtype=float64, chunksize=(1000, 1000)>"
      ]
     },
     "execution_count": 10,
     "metadata": {},
     "output_type": "execute_result"
    }
   ],
   "source": [
    "import dask.array as da\n",
    "x = da.random.random((10000, 10000), chunks=(1000, 1000))\n",
    "x"
   ]
  },
  {
   "cell_type": "code",
   "execution_count": 19,
   "metadata": {},
   "outputs": [
    {
     "name": "stdout",
     "output_type": "stream",
     "text": [
      "CPU times: user 944 µs, sys: 32 µs, total: 976 µs\n",
      "Wall time: 958 µs\n"
     ]
    },
    {
     "data": {
      "text/plain": [
       "dask.array<mean_agg-aggregate, shape=(5000,), dtype=float64, chunksize=(500,)>"
      ]
     },
     "execution_count": 19,
     "metadata": {},
     "output_type": "execute_result"
    }
   ],
   "source": [
    "%time y = x + x.T\n",
    "\n",
    "# faster as persistant in mem...\n",
    "y = y.persist()\n",
    "\n",
    "z = y[::2, 5000:].mean(axis=1)\n",
    "z"
   ]
  },
  {
   "cell_type": "code",
   "execution_count": 20,
   "metadata": {},
   "outputs": [
    {
     "data": {
      "text/plain": [
       "array([1.00236942, 0.99930286, 1.00287231, ..., 1.01151641, 1.01116207,\n",
       "       0.98958548])"
      ]
     },
     "execution_count": 20,
     "metadata": {},
     "output_type": "execute_result"
    }
   ],
   "source": [
    "z.compute()"
   ]
  },
  {
   "cell_type": "code",
   "execution_count": 21,
   "metadata": {},
   "outputs": [
    {
     "name": "stdout",
     "output_type": "stream",
     "text": [
      "CPU times: user 5.27 ms, sys: 1.56 ms, total: 6.83 ms\n",
      "Wall time: 5.93 ms\n"
     ]
    },
    {
     "data": {
      "text/plain": [
       "0.4142928951517493"
      ]
     },
     "execution_count": 21,
     "metadata": {},
     "output_type": "execute_result"
    }
   ],
   "source": [
    "%time y[0,0].compute()\n"
   ]
  },
  {
   "cell_type": "code",
   "execution_count": 22,
   "metadata": {},
   "outputs": [
    {
     "name": "stdout",
     "output_type": "stream",
     "text": [
      "CPU times: user 231 ms, sys: 13.5 ms, total: 244 ms\n",
      "Wall time: 153 ms\n"
     ]
    },
    {
     "data": {
      "text/plain": [
       "100007710.92444387"
      ]
     },
     "execution_count": 22,
     "metadata": {},
     "output_type": "execute_result"
    }
   ],
   "source": [
    "%time y.sum().compute()\n"
   ]
  },
  {
   "cell_type": "code",
   "execution_count": null,
   "metadata": {},
   "outputs": [],
   "source": []
  }
 ],
 "metadata": {
  "kernelspec": {
   "display_name": "VENV",
   "language": "python",
   "name": "venv"
  },
  "language_info": {
   "codemirror_mode": {
    "name": "ipython",
    "version": 3
   },
   "file_extension": ".py",
   "mimetype": "text/x-python",
   "name": "python",
   "nbconvert_exporter": "python",
   "pygments_lexer": "ipython3",
   "version": "3.7.2"
  }
 },
 "nbformat": 4,
 "nbformat_minor": 2
}
